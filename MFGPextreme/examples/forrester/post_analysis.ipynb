{
 "cells": [
  {
   "cell_type": "markdown",
   "metadata": {},
   "source": [
    "# Info\n",
    "\n",
    "Plot the results of 1D forrest function "
   ]
  },
  {
   "cell_type": "code",
   "execution_count": 1,
   "metadata": {},
   "outputs": [],
   "source": [
    "import numpy as np\n",
    "import scipy.stats as stats\n",
    "import matplotlib.pyplot as plt"
   ]
  },
  {
   "cell_type": "code",
   "execution_count": 2,
   "metadata": {},
   "outputs": [],
   "source": [
    "import sys\n",
    "sys.path.append(\"../../\")\n",
    "\n",
    "from core import GaussianProcessRegressor, generate_plotdata"
   ]
  },
  {
   "cell_type": "code",
   "execution_count": 3,
   "metadata": {},
   "outputs": [],
   "source": [
    "plt.rcParams.update({'font.size': 16})"
   ]
  },
  {
   "cell_type": "markdown",
   "metadata": {},
   "source": [
    "## Plot errors"
   ]
  },
  {
   "cell_type": "code",
   "execution_count": 4,
   "metadata": {},
   "outputs": [],
   "source": [
    "sgp = np.load('data/sgp.npy', allow_pickle=True)\n",
    "errors = np.array([i[1] for i in sgp])\n",
    "errors = np.asarray(errors, float)"
   ]
  },
  {
   "cell_type": "code",
   "execution_count": 5,
   "metadata": {},
   "outputs": [],
   "source": [
    "opt = np.load('data/opt.npy', allow_pickle=True)\n",
    "opt_plot = generate_plotdata(opt, 5, fixed_quato=False)"
   ]
  },
  {
   "cell_type": "code",
   "execution_count": 7,
   "metadata": {},
   "outputs": [
    {
     "data": {
      "image/png": "[encoded data removed]",
      "text/plain": [
       "<Figure size 432x360 with 1 Axes>"
      ]
     },
     "metadata": {
      "needs_background": "light"
     },
     "output_type": "display_data"
    }
   ],
   "source": [
    "# plot the results \n",
    "plt.figure(figsize=(6,5))\n",
    "plt.plot(4 + np.arange(11), np.median(errors, axis=0))\n",
    "plt.plot(opt_plot[0], np.median(opt_plot[1], axis=0), color='black')\n",
    "plt.xlim(0,12)\n",
    "plt.yscale('log')\n",
    "plt.ylim(10**-1,10**2)\n",
    "plt.xlabel('$c$')\n",
    "plt.ylabel('$e(c)$')\n",
    "#plt.savefig('figures/results_new.pdf', bbox_inches='tight')\n",
    "plt.show()"
   ]
  },
  {
   "cell_type": "markdown",
   "metadata": {},
   "source": [
    "## Plot sequence"
   ]
  },
  {
   "cell_type": "code",
   "execution_count": 8,
   "metadata": {},
   "outputs": [],
   "source": [
    "def compute_sequence(seed):\n",
    "    low_number = np.array([np.where(opt[seed][0][i][0:,1]==0)[0].shape[0] - 10 for i in range(len(opt[seed][0]))])\n",
    "    high_number = np.array([np.where(opt[seed][0][i][0:,1]==1)[0].shape[0] - 2 for i in range(len(opt[seed][0]))])\n",
    "\n",
    "    \n",
    "    high_position = np.zeros(len(opt[seed][0]))\n",
    "    low_position = np.zeros(len(opt[seed][0]))\n",
    "    for i in range(1,len(opt[seed][0])):\n",
    "        if high_number[i] > high_number[i-1]:\n",
    "            high_position[i-1] = 1\n",
    "        if low_number[i] > low_number[i-1]:\n",
    "            low_position[i-1] = 1\n",
    "\n",
    "    high_cost_pisition = (low_number / 5 + high_number)[np.argwhere(high_position==1)]\n",
    "    low_cost_pisition = (low_number / 5 + high_number)[np.argwhere(low_position==1)]\n",
    "    return high_cost_pisition + 4, low_cost_pisition + 4"
   ]
  },
  {
   "cell_type": "code",
   "execution_count": 9,
   "metadata": {},
   "outputs": [
    {
     "data": {
      "image/png": "[encoded data removed]",
      "text/plain": [
       "<Figure size 432x360 with 10 Axes>"
      ]
     },
     "metadata": {
      "needs_background": "light"
     },
     "output_type": "display_data"
    }
   ],
   "source": [
    "fig, axs = plt.subplots(10,1, figsize=(6,5))\n",
    "for ii in range(10):\n",
    "    a, b = compute_sequence(ii)\n",
    "    axs[ii].scatter(a, np.ones(a.shape[0]), s=16)\n",
    "    axs[ii].scatter(b, np.ones(b.shape[0]), s=16)\n",
    "    axs[ii].set_ylim(0,2)\n",
    "    axs[ii].set_yticks([])\n",
    "    axs[ii].set_xlim(3.5,10)\n",
    "    if ii<9: \n",
    "        axs[ii].set_xticks([])\n",
    "    if ii==9:\n",
    "        axs[ii].set_xticks(np.arange(4,11))\n",
    "        axs[ii].set_xlabel('$c$')\n",
    "#plt.savefig('figures/sequence.pdf', bbox_inches='tight')"
   ]
  },
  {
   "cell_type": "code",
   "execution_count": null,
   "metadata": {},
   "outputs": [],
   "source": []
  }
 ],
 "metadata": {
  "kernelspec": {
   "display_name": "Python 3",
   "language": "python",
   "name": "python3"
  },
  "language_info": {
   "codemirror_mode": {
    "name": "ipython",
    "version": 3
   },
   "file_extension": ".py",
   "mimetype": "text/x-python",
   "name": "python",
   "nbconvert_exporter": "python",
   "pygments_lexer": "ipython3",
   "version": "3.7.6"
  }
 },
 "nbformat": 4,
 "nbformat_minor": 2
}
